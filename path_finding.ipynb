{
 "cells": [
  {
   "cell_type": "markdown",
   "metadata": {},
   "source": [
    "### QUESTION 1"
   ]
  },
  {
   "cell_type": "code",
   "execution_count": 3,
   "metadata": {},
   "outputs": [
    {
     "name": "stdout",
     "output_type": "stream",
     "text": [
      "Collecting locationiq\n",
      "  Downloading locationiq-0.0.2-py3-none-any.whl (6.5 kB)\n",
      "Requirement already satisfied: requests>=2.11.1 in c:\\users\\mypc\\anaconda3\\lib\\site-packages (from locationiq) (2.24.0)\n",
      "Requirement already satisfied: chardet<4,>=3.0.2 in c:\\users\\mypc\\anaconda3\\lib\\site-packages (from requests>=2.11.1->locationiq) (3.0.4)\n",
      "Requirement already satisfied: urllib3!=1.25.0,!=1.25.1,<1.26,>=1.21.1 in c:\\users\\mypc\\anaconda3\\lib\\site-packages (from requests>=2.11.1->locationiq) (1.25.9)\n",
      "Requirement already satisfied: certifi>=2017.4.17 in c:\\users\\mypc\\anaconda3\\lib\\site-packages (from requests>=2.11.1->locationiq) (2020.6.20)\n",
      "Requirement already satisfied: idna<3,>=2.5 in c:\\users\\mypc\\anaconda3\\lib\\site-packages (from requests>=2.11.1->locationiq) (2.10)\n",
      "Installing collected packages: locationiq\n",
      "Successfully installed locationiq-0.0.2\n",
      "Note: you may need to restart the kernel to use updated packages.\n"
     ]
    }
   ],
   "source": [
    "pip install locationiq"
   ]
  },
  {
   "cell_type": "code",
   "execution_count": 4,
   "metadata": {},
   "outputs": [],
   "source": [
    "from locationiq.geocoder import LocationIQ\n",
    "from math import radians, sin, cos, acos"
   ]
  },
  {
   "cell_type": "code",
   "execution_count": 5,
   "metadata": {},
   "outputs": [],
   "source": [
    "geocoder = LocationIQ(\"37d68eb32b3b4d\")"
   ]
  },
  {
   "cell_type": "code",
   "execution_count": 6,
   "metadata": {},
   "outputs": [
    {
     "name": "stdout",
     "output_type": "stream",
     "text": [
      "['Agartala', 'Aizawl', 'Amaravathi', 'Bangalore', 'Bhopal', 'Bhubaneswar', 'Chandigarh', 'Chennai', 'Dehradun', 'Dispur', 'Hyderabad', 'Imphal', 'Jaipur', 'Kohima', 'Kolkata', 'Lucknow', 'Mumbai', 'Patna', 'Raipur', 'Shimla', 'Srinagar', 'Panaji', 'Thiruvanathapuram', 'Gandhinagar', 'Ranchi', 'Shillong', 'Itanagar', 'Gangtok']\n"
     ]
    }
   ],
   "source": [
    "states = ['Agartala','Aizawl','Amaravathi','Bangalore','Bhopal','Bhubaneswar','Chandigarh','Chennai',\n",
    "          'Dehradun','Dispur','Hyderabad','Imphal','Jaipur','Kohima','Kolkata','Lucknow','Mumbai','Patna',\n",
    "          'Raipur','Shimla','Srinagar','Panaji','Thiruvanathapuram','Gandhinagar','Ranchi','Shillong','Itanagar',\n",
    "          'Gangtok',]\n",
    "print(states)"
   ]
  },
  {
   "cell_type": "code",
   "execution_count": 7,
   "metadata": {},
   "outputs": [
    {
     "name": "stdout",
     "output_type": "stream",
     "text": [
      "[1879, 1992, 307, 0, 1143, 1194, 1975, 291, 1929, 2084, 1682, 2160, 1560, 2240, 1560, 1579, 834, 1610, 1013, 2015, 2362, 492, 499, 1252, 1414, 2048, 2290, 1964]\n"
     ]
    }
   ],
   "source": [
    "import json\n",
    "distance = []\n",
    "for i in range(len(states)):\n",
    "    bg = geocoder.geocode('Bangalore')[0]\n",
    "    ch = geocoder.geocode(states[i])[0]\n",
    "    slat = radians(float(bg['lat']))\n",
    "    slon = radians(float(bg['lon']))\n",
    "    elat = radians(float(ch['lat']))\n",
    "    elon = radians(float(ch['lon']))\n",
    "    dist = 6370.01 * acos(sin(slat)*sin(elat) + cos(slat)*cos(elat)*cos(slon - elon))\n",
    "    dist1 = int(dist)\n",
    "    distance.append(dist1)\n",
    "print(distance)"
   ]
  },
  {
   "cell_type": "code",
   "execution_count": 8,
   "metadata": {},
   "outputs": [
    {
     "name": "stdout",
     "output_type": "stream",
     "text": [
      "{'agartala': 1879, 'aizawl': 1992, 'amaravathi': 307, 'bangalore': 0, 'bhopal': 1143, 'bhubaneswar': 1194, 'chandigarh': 1975, 'chennai': 291, 'dehradun': 1929, 'dispur': 2084, 'hyderabad': 1682, 'imphal': 2160, 'jaipur': 1560, 'kohima': 2240, 'kolkata': 1560, 'lucknow': 1579, 'mumbai': 834, 'patna': 1610, 'raipur': 1013, 'shimla': 2015, 'srinagar': 2362, 'panaji': 492, 'thiruvanathapuram': 499, 'gandhinagar': 1252, 'ranchi': 1414, 'shillong': 2048, 'itanagar': 2290, 'gangtok': 1964}\n"
     ]
    }
   ],
   "source": [
    "heuristic_func= {} \n",
    "for key in states: \n",
    "    for value in distance: \n",
    "        heuristic_func[key.lower().strip()] = value \n",
    "        distance.remove(value) \n",
    "        break\n",
    "print(heuristic_func)"
   ]
  },
  {
   "cell_type": "code",
   "execution_count": 9,
   "metadata": {},
   "outputs": [],
   "source": [
    "import xlrd\n",
    "fileread = (\"Indian_capitals.xlsx\")\n",
    "file = xlrd.open_workbook(fileread)\n",
    "sheet = file.sheet_by_index(0)\n",
    "main_function = []\n",
    "for a in range(sheet.nrows):\n",
    "    main_function.append(sheet.row_values(a))"
   ]
  },
  {
   "cell_type": "code",
   "execution_count": 10,
   "metadata": {},
   "outputs": [],
   "source": [
    "destination = 'bangalore'"
   ]
  },
  {
   "cell_type": "code",
   "execution_count": 11,
   "metadata": {},
   "outputs": [],
   "source": [
    "def testGoal(nodeState):\n",
    "    if(nodeState == destination):\n",
    "        return True\n",
    "    else:\n",
    "        return False"
   ]
  },
  {
   "cell_type": "code",
   "execution_count": 12,
   "metadata": {},
   "outputs": [],
   "source": [
    "nodeChildren = dict()\n",
    "\n",
    "for row in main_function:\n",
    "    nodeChildren[(row[0].lower().strip(),row[1].lower().strip())] = [row[2]]"
   ]
  },
  {
   "cell_type": "code",
   "execution_count": 13,
   "metadata": {},
   "outputs": [],
   "source": [
    "def findTheNeighbour(node):\n",
    "    children = []\n",
    "    for keys in nodeChildren:\n",
    "        if node in keys:\n",
    "            if keys[0] == node:\n",
    "                child = keys[1]\n",
    "                \n",
    "            else:\n",
    "                child = keys[0]\n",
    "            children.append(child)\n",
    "    return children"
   ]
  },
  {
   "cell_type": "code",
   "execution_count": 14,
   "metadata": {},
   "outputs": [
    {
     "name": "stdout",
     "output_type": "stream",
     "text": [
      "{'agartala': ['aizawl', 'dispur'], 'aizawl': ['agartala', 'imphal', 'dispur'], 'imphal': ['aizawl', 'dispur', 'kohima'], 'amaravathi': ['bangalore', 'chennai', 'bhubaneswar', 'raipur'], 'bangalore': ['amaravathi', 'panaji', 'chennai', 'thiruvanathapuram', 'mumbai', 'hyderabad'], 'chennai': ['amaravathi', 'bangalore', 'thiruvanathapuram'], 'bhubaneswar': ['amaravathi', 'raipur', 'ranchi', 'kolkata'], 'raipur': ['amaravathi', 'bhubaneswar', 'hyderabad', 'mumbai', 'bhopal', 'lucknow', 'ranchi'], 'panaji': ['bangalore', 'mumbai'], 'thiruvanathapuram': ['bangalore', 'chennai'], 'mumbai': ['bangalore', 'hyderabad', 'panaji', 'gandhinagar', 'bhopal', 'raipur'], 'bhopal': ['gandhinagar', 'jaipur', 'lucknow', 'mumbai', 'raipur'], 'gandhinagar': ['bhopal', 'jaipur', 'mumbai'], 'ranchi': ['bhubaneswar', 'kolkata', 'lucknow', 'patna', 'raipur'], 'kolkata': ['bhubaneswar', 'ranchi', 'patna', 'gangtok', 'dispur'], 'chandigarh': ['lucknow', 'jaipur', 'shimla', 'srinagar'], 'lucknow': ['chandigarh', 'dehradun', 'jaipur', 'bhopal', 'ranchi', 'patna', 'raipur', 'shimla'], 'jaipur': ['chandigarh', 'gandhinagar', 'bhopal', 'lucknow'], 'dehradun': ['lucknow', 'shimla'], 'dispur': ['shillong', 'imphal', 'aizawl', 'agartala', 'itanagar', 'kohima', 'kolkata'], 'shillong': ['dispur'], 'itanagar': ['dispur', 'kohima'], 'kohima': ['dispur', 'imphal', 'itanagar'], 'hyderabad': ['amaravati', 'bangalore', 'raipur', 'mumbai'], 'amaravati': ['hyderabad'], 'patna': ['kolkata', 'lucknow', 'ranchi'], 'gangtok': ['kolkata'], 'shimla': ['chandigarh', 'dehradun', 'lucknow', 'srinagar'], 'srinagar': ['shimla', 'chandigarh']}\n"
     ]
    }
   ],
   "source": [
    "def createGraph(row):\n",
    "    main = dict()\n",
    "    for a in main_function:\n",
    "        if a[0] not in main:\n",
    "            main[a[0].lower().strip()] = findTheNeighbour(a[0].lower())\n",
    "        if a[1] not in main:\n",
    "            main[a[1].lower().strip()] = findTheNeighbour(a[1].lower())\n",
    "    return main\n",
    "\n",
    "graph = createGraph(main_function)\n",
    "print(graph)"
   ]
  },
  {
   "cell_type": "code",
   "execution_count": 15,
   "metadata": {},
   "outputs": [],
   "source": [
    "def priority_queue(q, heuristic, priority_cost):\n",
    "    priority_q = []\n",
    "    for a in range(len(q)):\n",
    "        min_ = q[a]        \n",
    "        for b in range(len(q)):\n",
    "            if q[b] in priority_q:\n",
    "                continue\n",
    "            if (priority_cost[min_[-1]] + heuristic[min_[-1]]) > (priority_cost[q[b][-1]] + heuristic[q[b][-1]]):\n",
    "                min_ = q[b]\n",
    "        priority_q.append(min_)\n",
    "    return priority_q"
   ]
  },
  {
   "cell_type": "code",
   "execution_count": 16,
   "metadata": {},
   "outputs": [],
   "source": [
    "def Searching(graph,source,testGoal,searchtype,heuristic, node_children):\n",
    "    explored = []\n",
    "    frontier = []\n",
    "    start = [[source]]\n",
    "    if(testGoal(source)):\n",
    "        return 'starting state same as goal state'\n",
    "    priority_cost = dict()\n",
    "    priority_cost[source] = 0\n",
    "    start = priority_queue(start,heuristic,priority_cost)\n",
    "    path = []\n",
    "    while start:\n",
    "        path = start[0]\n",
    "        start = start[1:]\n",
    "        present_node = path[-1]\n",
    "        if present_node not in explored:\n",
    "            explored.append(present_node)\n",
    "            children = graph[present_node.lower()]\n",
    "            a = 0\n",
    "            for child in children:\n",
    "                if child not in frontier:\n",
    "                    frontier.append(child)\n",
    "                shortpath = list(path)\n",
    "                if child not in shortpath:\n",
    "                    shortpath.append(child)\n",
    "                if(searchtype == 'bfs'):\n",
    "                    start.append(shortpath)\n",
    "                elif(searchtype == 'dfs'):\n",
    "                    start.insert(a,shortpath)\n",
    "                    a = a + 1\n",
    "                else:\n",
    "                    start.append(shortpath)\n",
    "                    if ((present_node, child) in node_children):\n",
    "                        temp = node_children[(present_node, child)][0]\n",
    "                    else:\n",
    "                        temp = node_children[(child, present_node)][0]                    \n",
    "                    priority_cost[child] = priority_cost[present_node] + float(temp)\n",
    "                    start = priority_queue(start, heuristic, priority_cost)\n",
    "                if(testGoal(child)):\n",
    "                    return shortpath\n",
    "    return False"
   ]
  },
  {
   "cell_type": "code",
   "execution_count": 17,
   "metadata": {},
   "outputs": [],
   "source": [
    "def BiDirectional(graph, start_point, testGoal,searchtype,heuristic_func, node_children):\n",
    "    explored1 = []\n",
    "    frontier1 = []\n",
    "    explored2 = []\n",
    "    frontier2 = []\n",
    "    p1 = [[start_point]]\n",
    "    p2 = [[destination]]\n",
    "    if start_point == destination:\n",
    "        return 'starting state same as goal state'\n",
    "    else:\n",
    "        while p1 != p2:\n",
    "            path1 = p1[0]\n",
    "            p1 = p1[1:]\n",
    "            present_node1 = path1[-1]\n",
    "            path2 = p2[0]\n",
    "            p2 = p2[1:]\n",
    "            present_node2 = path2[-1]\n",
    "            if present_node1 not in explored1:\n",
    "                explored1.append(present_node1)\n",
    "                children = graph[present_node1.lower()]\n",
    "                for child in children:\n",
    "                    if child in frontier1:\n",
    "                        continue\n",
    "                    frontier1.append(child)\n",
    "                    shortpath1 = list(path1)\n",
    "                    if child in shortpath1:\n",
    "                        continue\n",
    "                    shortpath1.append(child)\n",
    "                    p1.append(shortpath1)\n",
    "            if present_node2 not in explored2:\n",
    "                explored2.append(present_node2)\n",
    "                children = graph[present_node2.lower()]\n",
    "                for child in children:\n",
    "                    if child in frontier2:\n",
    "                        continue\n",
    "                    frontier2.append(child)\n",
    "                    shortpath2 = list(path2)\n",
    "                    if child in shortpath2:\n",
    "                        continue\n",
    "                    shortpath2.append(child)\n",
    "                    p2.append(shortpath2)\n",
    "            if p1 == p2:\n",
    "                path = shortpath2.reverse()\n",
    "                for i in range(len(path)):\n",
    "                    shortpath1.append(i)\n",
    "                return shortpath\n",
    "        return False "
   ]
  },
  {
   "cell_type": "code",
   "execution_count": 18,
   "metadata": {},
   "outputs": [
    {
     "name": "stdout",
     "output_type": "stream",
     "text": [
      "Enter source City : lucknow\n",
      "Enter search type (bfs,dfs,astar,bidirectional) : bfs\n",
      "['lucknow', 'bhopal', 'mumbai', 'bangalore']\n"
     ]
    }
   ],
   "source": [
    "source = input('Enter source City : ')\n",
    "searchtype = input('Enter search type (bfs,dfs,astar,bidirectional) : ')\n",
    "print(Searching(graph,source.lower(),testGoal,searchtype.lower(),heuristic_func, nodeChildren))"
   ]
  },
  {
   "cell_type": "code",
   "execution_count": null,
   "metadata": {},
   "outputs": [],
   "source": []
  }
 ],
 "metadata": {
  "kernelspec": {
   "display_name": "Python 3",
   "language": "python",
   "name": "python3"
  },
  "language_info": {
   "codemirror_mode": {
    "name": "ipython",
    "version": 3
   },
   "file_extension": ".py",
   "mimetype": "text/x-python",
   "name": "python",
   "nbconvert_exporter": "python",
   "pygments_lexer": "ipython3",
   "version": "3.8.3"
  }
 },
 "nbformat": 4,
 "nbformat_minor": 2
}
