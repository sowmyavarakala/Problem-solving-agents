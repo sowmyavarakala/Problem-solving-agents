{
 "cells": [
  {
   "cell_type": "markdown",
   "metadata": {},
   "source": [
    "#### QUESTION 2"
   ]
  },
  {
   "cell_type": "code",
   "execution_count": 1,
   "metadata": {},
   "outputs": [],
   "source": [
    "def heuristic(initial, final):\n",
    "    output = 0\n",
    "    for i in range(len(initial)):\n",
    "        if final[i] != initial[i]:\n",
    "            output += 1\n",
    "    return output"
   ]
  },
  {
   "cell_type": "code",
   "execution_count": 2,
   "metadata": {},
   "outputs": [],
   "source": [
    "def goalTest(initial, final):\n",
    "    if heuristic(initial, final) == 0:\n",
    "        return True\n",
    "    return False"
   ]
  },
  {
   "cell_type": "code",
   "execution_count": 3,
   "metadata": {},
   "outputs": [],
   "source": [
    "def addNode(obj,dist=[]):\n",
    "    if len(dist) == 0:\n",
    "        dist.append(obj)\n",
    "    elif dist[-1][\"cost\"] < obj[\"cost\"]:\n",
    "        dist.append(obj)\n",
    "    else:\n",
    "        for i in range(len(dist)):\n",
    "            if dist[i][\"cost\"] > obj[\"cost\"]:\n",
    "                dist.insert(i, obj)\n",
    "                break"
   ]
  },
  {
   "cell_type": "code",
   "execution_count": 4,
   "metadata": {},
   "outputs": [],
   "source": [
    "def addNodeAstar(obj, dist=[]):\n",
    "    if (obj in dist):\n",
    "        ind = dist.index(obj)\n",
    "        if (dist[ind][\"h\"]+dist[ind][\"p\"] > obj[\"h\"]+obj[\"p\"]):\n",
    "            dist.pop(ind)\n",
    "    elif (len(dist) == 0) or (dist[-1][\"h\"]+dist[-1][\"p\"] < obj[\"h\"]+obj[\"p\"]):\n",
    "        dist.append(obj)\n",
    "    else:\n",
    "        for i in range(len(dist)):\n",
    "            if dist[i][\"h\"]+dist[i][\"p\"] > obj[\"h\"]+obj[\"p\"]:\n",
    "                break\n",
    "        dist.insert(i, obj)"
   ]
  },
  {
   "cell_type": "code",
   "execution_count": 5,
   "metadata": {},
   "outputs": [],
   "source": [
    "def backTrace(start, end, parent):\n",
    "    path = [end]\n",
    "    c = 0\n",
    "    while path[-1] != start:\n",
    "        for i in range(len(parent)):\n",
    "            if parent[i][0] == path[-1]:\n",
    "                path.append(parent[i][1])\n",
    "                break\n",
    "        c += 1\n",
    "    path.reverse()\n",
    "    return (c+1, path)"
   ]
  },
  {
   "cell_type": "code",
   "execution_count": 6,
   "metadata": {},
   "outputs": [],
   "source": [
    "def backtraceAstar(start, end, explored):\n",
    "    path = [end[\"node\"], end[\"parent\"]]\n",
    "    c = 0\n",
    "    while path[-1] != start:\n",
    "        for i in range(len(explored)):\n",
    "            if explored[i][\"node\"] == path[-1]:\n",
    "                path.append(explored[i][\"parent\"])\n",
    "                break\n",
    "        c += 1\n",
    "    path.reverse()\n",
    "    return (c+1, path)"
   ]
  },
  {
   "cell_type": "code",
   "execution_count": 7,
   "metadata": {},
   "outputs": [],
   "source": [
    "import copy\n",
    "def children(dist=[]):\n",
    "    child = []\n",
    "    ind = dist.index(0)\n",
    "    x = ind%3\n",
    "    y = int(ind/3)\n",
    "    if x >= 0 and x < 2:\n",
    "        temp = copy.deepcopy(dist)\n",
    "        temp[x+y*3], temp[(x+1)+y*3] = temp[(x+1)+y*3], temp[x+y*3]\n",
    "        child.append(temp)\n",
    "    if x <= 2 and x > 0:\n",
    "        temp = copy.deepcopy(dist)\n",
    "        temp[x+y*3], temp[(x-1)+y*3] = temp[(x-1)+y*3], temp[x+y*3]\n",
    "        child.append(temp)\n",
    "    if y >= 0 and y < 2:\n",
    "        temp = copy.deepcopy(dist)\n",
    "        temp[x+(y+1)*3], temp[x+y*3] = temp[x+y*3], temp[x+(y+1)*3]\n",
    "        child.append(temp)\n",
    "    if y <= 2 and y > 0:\n",
    "        temp = copy.deepcopy(dist)\n",
    "        temp[x+y*3], temp[x+(y-1)*3] = temp[x+(y-1)*3], temp[x+y*3]\n",
    "        child.append(temp)\n",
    "    return child"
   ]
  },
  {
   "cell_type": "code",
   "execution_count": 8,
   "metadata": {},
   "outputs": [],
   "source": [
    "def bfs(initial_node, final):\n",
    "    if goalTest(initial_node, final):\n",
    "        return (0, [initial_node])\n",
    "    frontier = [initial_node]\n",
    "    parent = []\n",
    "    visited = []\n",
    "    while(1):\n",
    "        if len(frontier) == 0:\n",
    "            return (\"Invalid, cannot find path.\", [])\n",
    "        node = frontier.pop(0)\n",
    "        visited.append(node)\n",
    "        for child in children(node):\n",
    "            if (child not in visited) and (child not in frontier):\n",
    "                parent.append([child, node])\n",
    "                if goalTest(child, final):\n",
    "                    return backTrace(initial_node, child, parent)\n",
    "                frontier.append(child)"
   ]
  },
  {
   "cell_type": "code",
   "execution_count": 9,
   "metadata": {},
   "outputs": [],
   "source": [
    "def dfs(initial_node, final):\n",
    "    frontier = [initial_node]\n",
    "    parent = []\n",
    "    visited = []\n",
    "    while(1):\n",
    "        if len(frontier) == 0:\n",
    "            return (\"Invalid, cannot find path.\", [])\n",
    "        node = frontier.pop(0)\n",
    "        visited.append(node)\n",
    "        for child in children(node):\n",
    "            if (child not in visited) and (child not in frontier):\n",
    "                parent.append([child, node])\n",
    "                if goalTest(child, final):\n",
    "                    return backTrace(initial_node, child, parent)\n",
    "                frontier.append(child)"
   ]
  },
  {
   "cell_type": "code",
   "execution_count": 10,
   "metadata": {},
   "outputs": [],
   "source": [
    "def gbfs(initial_node, final):\n",
    "    node = {\"node\":initial_node, \"cost\": heuristic(initial_node, final)}\n",
    "    priority_frontier = [node]\n",
    "    explored = []\n",
    "    parent = []\n",
    "    c = 0\n",
    "    while(1):\n",
    "        if len(priority_frontier) == 0:\n",
    "            return \"Failure\"\n",
    "        node = priority_frontier.pop(0)\n",
    "        explored.append(node[\"node\"])\n",
    "        if goalTest(node[\"node\"], final):\n",
    "            return backTrace(initial_node, node[\"node\"], parent)\n",
    "        c += 1\n",
    "        for child in children(node[\"node\"]):\n",
    "            if child not in explored:\n",
    "                addNode({\"node\":child, \"cost\":heuristic(child, final)}, priority_frontier)\n",
    "                parent.append([child, node[\"node\"]])"
   ]
  },
  {
   "cell_type": "code",
   "execution_count": 11,
   "metadata": {},
   "outputs": [],
   "source": [
    "def astar(initial_node, final):\n",
    "    node = {\"node\":initial_node, \"h\": heuristic(initial_node, final), \"p\":0, \"parent\": None}\n",
    "    priority_frontier = [node]\n",
    "    explored = []\n",
    "    while(1):\n",
    "        if len(priority_frontier) == 0:\n",
    "            return \"Failure\"\n",
    "        node = priority_frontier.pop(0)\n",
    "        explored.append(node)\n",
    "        if goalTest(node[\"node\"], final):\n",
    "            return backtraceAstar(initial_node, node, explored)\n",
    "        for c in children(node[\"node\"]):\n",
    "            child = {\"node\":c, \"h\":heuristic(c, final), \"p\":node[\"p\"]+1, \"parent\":node[\"node\"]}\n",
    "            if child not in explored:\n",
    "                addNodeAstar(child, priority_frontier)"
   ]
  },
  {
   "cell_type": "code",
   "execution_count": 12,
   "metadata": {},
   "outputs": [
    {
     "name": "stdout",
     "output_type": "stream",
     "text": [
      "Enter initial state in row major order(0 to 8): 0 1 2 3 5 6 7 8 4\n",
      "Enter final state in row major order(0 to 8): 0 1 2 3 4 5 6 7 8\n",
      "Select searchtype (1:BFS; 2:DFS; 3:GBFS; 4:A*) : 4\n",
      "\n",
      "0utput :\n",
      " \n",
      "[0, 1, 2, 3, 5, 6, 7, 8, 4]\n",
      "[3, 1, 2, 0, 5, 6, 7, 8, 4]\n",
      "[3, 1, 2, 7, 5, 6, 0, 8, 4]\n",
      "[3, 1, 2, 7, 5, 6, 8, 0, 4]\n",
      "[3, 1, 2, 7, 0, 6, 8, 5, 4]\n",
      "[3, 1, 2, 7, 6, 0, 8, 5, 4]\n",
      "[3, 1, 2, 7, 6, 4, 8, 5, 0]\n",
      "[3, 1, 2, 7, 6, 4, 8, 0, 5]\n",
      "[3, 1, 2, 7, 6, 4, 0, 8, 5]\n",
      "[3, 1, 2, 0, 6, 4, 7, 8, 5]\n",
      "[3, 1, 2, 6, 0, 4, 7, 8, 5]\n",
      "[3, 1, 2, 6, 4, 0, 7, 8, 5]\n",
      "[3, 1, 2, 6, 4, 5, 7, 8, 0]\n",
      "[3, 1, 2, 6, 4, 5, 7, 0, 8]\n",
      "[3, 1, 2, 6, 4, 5, 0, 7, 8]\n",
      "[3, 1, 2, 0, 4, 5, 6, 7, 8]\n",
      "[0, 1, 2, 3, 4, 5, 6, 7, 8]\n",
      "\n",
      "Number of steps : 16\n"
     ]
    }
   ],
   "source": [
    "print(\"Enter initial state in row major order(0 to 8):\", end=\" \")\n",
    "initial = [int(i) for i in input().split(\" \")]\n",
    "print(\"Enter final state in row major order(0 to 8):\", end=\" \")\n",
    "final = [int(i) for i in input().split(\" \")]\n",
    "choice = input(\"Select searchtype (1:BFS; 2:DFS; 3:GBFS; 4:A*) : \")\n",
    "\n",
    "if choice == \"1\":\n",
    "    numSteps, path = bfs(initial,final)\n",
    "elif choice == \"2\":\n",
    "    numSteps, path = dfs(initial,final)\n",
    "elif choice == \"3\":\n",
    "    numSteps, path = gbfs(initial,final)\n",
    "elif choice == \"4\":\n",
    "    numSteps, path = astar(initial,final)\n",
    "else:\n",
    "    print(\"Invalid option.\")\n",
    "\n",
    "print(\"\\n0utput :\\n \")\n",
    "for i in range(len(path)):\n",
    "    print(path[i])\n",
    "print(\"\\nNumber of steps : \"+str(numSteps))"
   ]
  },
  {
   "cell_type": "code",
   "execution_count": null,
   "metadata": {},
   "outputs": [],
   "source": []
  },
  {
   "cell_type": "code",
   "execution_count": null,
   "metadata": {},
   "outputs": [],
   "source": []
  }
 ],
 "metadata": {
  "kernelspec": {
   "display_name": "Python 3",
   "language": "python",
   "name": "python3"
  },
  "language_info": {
   "codemirror_mode": {
    "name": "ipython",
    "version": 3
   },
   "file_extension": ".py",
   "mimetype": "text/x-python",
   "name": "python",
   "nbconvert_exporter": "python",
   "pygments_lexer": "ipython3",
   "version": "3.8.3"
  }
 },
 "nbformat": 4,
 "nbformat_minor": 2
}
